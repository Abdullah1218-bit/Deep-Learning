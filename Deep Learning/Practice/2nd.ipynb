{
 "cells": [
  {
   "cell_type": "code",
   "execution_count": null,
   "id": "fe765a0f",
   "metadata": {},
   "outputs": [
    {
     "name": "stdout",
     "output_type": "stream",
     "text": [
      "Epoch 1/5\n",
      "\u001b[1m11507/11507\u001b[0m \u001b[32m━━━━━━━━━━━━━━━━━━━━\u001b[0m\u001b[37m\u001b[0m \u001b[1m14s\u001b[0m 1ms/step - loss: 7336071.0000 - mae: 1822.6499 - val_loss: 1993672.6250 - val_mae: 911.0543\n",
      "Epoch 2/5\n",
      "\u001b[1m11507/11507\u001b[0m \u001b[32m━━━━━━━━━━━━━━━━━━━━\u001b[0m\u001b[37m\u001b[0m \u001b[1m13s\u001b[0m 1ms/step - loss: 1442732.5000 - mae: 695.8363 - val_loss: 949916.4375 - val_mae: 573.4175\n",
      "Epoch 3/5\n",
      "\u001b[1m11507/11507\u001b[0m \u001b[32m━━━━━━━━━━━━━━━━━━━━\u001b[0m\u001b[37m\u001b[0m \u001b[1m14s\u001b[0m 1ms/step - loss: 1130367.0000 - mae: 563.8481 - val_loss: 801717.1250 - val_mae: 529.9166\n",
      "Epoch 4/5\n",
      "\u001b[1m11507/11507\u001b[0m \u001b[32m━━━━━━━━━━━━━━━━━━━━\u001b[0m\u001b[37m\u001b[0m \u001b[1m13s\u001b[0m 1ms/step - loss: 1009244.5000 - mae: 513.1776 - val_loss: 697370.9375 - val_mae: 457.4565\n",
      "Epoch 5/5\n",
      "\u001b[1m11507/11507\u001b[0m \u001b[32m━━━━━━━━━━━━━━━━━━━━\u001b[0m\u001b[37m\u001b[0m \u001b[1m13s\u001b[0m 1ms/step - loss: 905364.3750 - mae: 473.1366 - val_loss: 648158.0000 - val_mae: 440.1766\n",
      "\u001b[1m338/338\u001b[0m \u001b[32m━━━━━━━━━━━━━━━━━━━━\u001b[0m\u001b[37m\u001b[0m \u001b[1m0s\u001b[0m 931us/step - loss: 636982.0000 - mae: 434.8719\n",
      "Mean_Squared_Error: 636982.0\n",
      "Mean_Absolute_Error: 434.8718566894531\n"
     ]
    },
    {
     "ename": "TypeError",
     "evalue": "unhashable type: 'list'",
     "output_type": "error",
     "traceback": [
      "\u001b[1;31m---------------------------------------------------------------------------\u001b[0m",
      "\u001b[1;31mTypeError\u001b[0m                                 Traceback (most recent call last)",
      "Cell \u001b[1;32mIn[30], line 59\u001b[0m\n\u001b[0;32m     56\u001b[0m \u001b[38;5;28mprint\u001b[39m(\u001b[38;5;124m'\u001b[39m\u001b[38;5;124mMean_Squared_Error:\u001b[39m\u001b[38;5;124m'\u001b[39m, loss[\u001b[38;5;241m0\u001b[39m])\n\u001b[0;32m     57\u001b[0m \u001b[38;5;28mprint\u001b[39m(\u001b[38;5;124m'\u001b[39m\u001b[38;5;124mMean_Absolute_Error:\u001b[39m\u001b[38;5;124m'\u001b[39m, loss[\u001b[38;5;241m1\u001b[39m])\n\u001b[1;32m---> 59\u001b[0m plt\u001b[38;5;241m.\u001b[39mplot(\u001b[43mhistory\u001b[49m\u001b[38;5;241;43m.\u001b[39;49m\u001b[43mhistory\u001b[49m\u001b[43m[\u001b[49m\u001b[43mloss\u001b[49m\u001b[43m]\u001b[49m)\n\u001b[0;32m     60\u001b[0m plt\u001b[38;5;241m.\u001b[39mplot(history\u001b[38;5;241m.\u001b[39mhistory[val_loss])\n\u001b[0;32m     62\u001b[0m plt\u001b[38;5;241m.\u001b[39mtitle(\u001b[38;5;124m'\u001b[39m\u001b[38;5;124mModel Loss\u001b[39m\u001b[38;5;124m'\u001b[39m)\n",
      "\u001b[1;31mTypeError\u001b[0m: unhashable type: 'list'"
     ]
    }
   ],
   "source": [
    "import pandas as pd\n",
    "import numpy as np\n",
    "import seaborn as sns\n",
    "import warnings\n",
    "warnings.filterwarnings('ignore')\n",
    "from sklearn.model_selection import train_test_split\n",
    "from sklearn.preprocessing import RobustScaler,StandardScaler\n",
    "from tensorflow.keras.callbacks import EarlyStopping\n",
    "import matplotlib.pyplot as plt\n",
    "import tensorflow as tf\n",
    "df=sns.load_dataset('diamonds')\n",
    "\n",
    "df=pd.get_dummies(df,drop_first=True)\n",
    "X=df.drop(['price'],axis=1)\n",
    "y=df['price']\n",
    "\n",
    "\n",
    "categoric_cols=['cut', 'color', 'clarity']\n",
    "num_cols=['carat', 'depth', 'table', 'price', 'x', 'y', 'z']\n",
    "\n",
    "X_train,X_test,y_train,y_test=train_test_split(X,y,test_size=0.2,random_state=42)\n",
    "\n",
    "scaler = RobustScaler()\n",
    "early_stopping=EarlyStopping(patience=2)\n",
    "#Fit only on training data\n",
    "X_train_scaled = scaler.fit_transform(X_train)\n",
    "\n",
    "# Then transform test data \n",
    "X_test_scaled = scaler.transform(X_test)\n",
    "\n",
    "model=tf.keras.models.Sequential([\n",
    "    tf.keras.layers.Dense(64,\n",
    "                        activation='relu',\n",
    "                        input_shape=(X_train.shape[1],)),\n",
    "\n",
    "    tf.keras.layers.Dense(64,\n",
    "                        activation='relu'),\n",
    "    tf.keras.layers.Dense(1)\n",
    "])\n",
    "\n",
    "model.compile(optimizer='adam',\n",
    "             loss='mse',\n",
    "             metrics=['mae'])\n",
    "\n",
    "history=model.fit(X_train,y_train,\n",
    "          epochs=5,\n",
    "          batch_size=3,\n",
    "          verbose=1,\n",
    "          callbacks=[early_stopping],\n",
    "          validation_split=0.2)\n",
    "\n",
    "#Evaluating The Model\n",
    "loss=model.evaluate(X_test,y_test,verbose=1)\n",
    "\n",
    "\n",
    "print('Mean_Squared_Error:', loss[0])\n",
    "print('Mean_Absolute_Error:', loss[1])\n",
    "\n",
    "\n",
    "plt.plot(history.history['loss'])\n",
    "plt.plot(history.history['val_loss'])\n",
    "\n",
    "plt.title('Model Loss')\n",
    "plt.ylabel('Loss')\n",
    "plt.xlabel('Epochs')\n",
    "plt.legend(['train','validation'],loc='upper right')\n",
    "plt.show()\n"
   ]
  },
  {
   "cell_type": "code",
   "execution_count": 38,
   "id": "923ae50a",
   "metadata": {},
   "outputs": [
    {
     "data": {
      "text/plain": [
       "<function matplotlib.pyplot.show(close=None, block=None)>"
      ]
     },
     "execution_count": 38,
     "metadata": {},
     "output_type": "execute_result"
    },
    {
     "data": {
      "image/png": "[encoded data removed]",
      "text/plain": [
       "<Figure size 640x480 with 1 Axes>"
      ]
     },
     "metadata": {},
     "output_type": "display_data"
    }
   ],
   "source": [
    "plt.plot(history.history['loss'])\n",
    "plt.plot(history.history['val_loss'])\n",
    "plt.title('Model Loss')\n",
    "plt.ylabel('Loss')\n",
    "plt.xlabel('Epochs')\n",
    "plt.legend(['train','validation'],loc='upper right')\n",
    "plt.show"
   ]
  }
 ],
 "metadata": {
  "kernelspec": {
   "display_name": "tf_env",
   "language": "python",
   "name": "python3"
  },
  "language_info": {
   "codemirror_mode": {
    "name": "ipython",
    "version": 3
   },
   "file_extension": ".py",
   "mimetype": "text/x-python",
   "name": "python",
   "nbconvert_exporter": "python",
   "pygments_lexer": "ipython3",
   "version": "3.10.18"
  }
 },
 "nbformat": 4,
 "nbformat_minor": 5
}
